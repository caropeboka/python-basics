{
  "nbformat": 4,
  "nbformat_minor": 0,
  "metadata": {
    "colab": {
      "name": "MSIB_Tugas Akhir Dasar - Dasar Python.ipynb",
      "provenance": [],
      "collapsed_sections": [],
      "authorship_tag": "ABX9TyPiZF24aBMkZHMph6SSvf9U",
      "include_colab_link": true
    },
    "kernelspec": {
      "name": "python3",
      "display_name": "Python 3"
    },
    "language_info": {
      "name": "python"
    }
  },
  "cells": [
    {
      "cell_type": "markdown",
      "metadata": {
        "id": "view-in-github",
        "colab_type": "text"
      },
      "source": [
        "<a href=\"https://colab.research.google.com/github/caropeboka/python-basics/blob/main/MSIB_Tugas_Akhir_Dasar_Dasar_Python.ipynb\" target=\"_parent\"><img src=\"https://colab.research.google.com/assets/colab-badge.svg\" alt=\"Open In Colab\"/></a>"
      ]
    },
    {
      "cell_type": "markdown",
      "source": [
        "Muhammad Kevin Mahendra Caropeboka\n",
        "\n",
        "---\n",
        "\n",
        "\n",
        "kevinmahendra64@gmail.com\n",
        "\n",
        "---\n",
        "\n",
        "\n",
        "MSIB Bisa AI - AI Hacker"
      ],
      "metadata": {
        "id": "GY5x1ZqExR8q"
      }
    },
    {
      "cell_type": "markdown",
      "source": [
        "1. Buatlah program Faktorial dari suatu bilangan, misalkan input n = 5, maka nilai faktorial adalah 120. Gunakan fungsi rekursif"
      ],
      "metadata": {
        "id": "gL2G447Jw2f6"
      }
    },
    {
      "cell_type": "code",
      "execution_count": null,
      "metadata": {
        "colab": {
          "base_uri": "https://localhost:8080/"
        },
        "id": "V7uBusf7uiQW",
        "outputId": "d314057a-2203-4d57-e209-3e65e9ccde1e"
      },
      "outputs": [
        {
          "output_type": "stream",
          "name": "stdout",
          "text": [
            "Input Nilai n = 5\n",
            "Nilai Faktorial =  120\n"
          ]
        }
      ],
      "source": [
        "n = int(input('Input Nilai n = '))\n",
        "\n",
        "def faktorial (n):\n",
        "  if n > 2:\n",
        "    return n * faktorial(n-1)\n",
        "  return 2\n",
        "\n",
        "hasil = faktorial(n)\n",
        "print('Nilai Faktorial = ', hasil)"
      ]
    },
    {
      "cell_type": "markdown",
      "source": [
        "2. Buatlah program Faktor Bilangan, misalkan input n = 100, maka nilai faktor bilangan adalah {1,2,3,4,5,10,20,25,50,100}"
      ],
      "metadata": {
        "id": "KN0u-uqxxDOi"
      }
    },
    {
      "cell_type": "code",
      "source": [
        "n = int(input('Input Nilai n = '))\n",
        "\n",
        "def faktor(bilangan):\n",
        "  hasil = []\n",
        "  batas_pembagi = int(bilangan**0.5 + 1)\n",
        "  for pembagi in range(1, batas_pembagi):\n",
        "    if bilangan % pembagi == 0:\n",
        "      pasangan_pembagi = int(bilangan / pembagi)\n",
        "      hasil.append(pembagi)\n",
        "      hasil.append(pasangan_pembagi)\n",
        "    hasil.sort()\n",
        "  return hasil\n",
        "\n",
        "hasil = faktor(n)\n",
        "print('Faktor Bilangan = ', hasil)"
      ],
      "metadata": {
        "colab": {
          "base_uri": "https://localhost:8080/"
        },
        "id": "XIgMP3mMvXyD",
        "outputId": "11c0e614-5d0b-4ba8-b9f7-4af5dbb2a7fa"
      },
      "execution_count": null,
      "outputs": [
        {
          "output_type": "stream",
          "name": "stdout",
          "text": [
            "Input Nilai n = 120\n",
            "Faktor Bilangan =  [1, 2, 3, 4, 5, 6, 8, 10, 12, 15, 20, 24, 30, 40, 60, 120]\n"
          ]
        }
      ]
    }
  ]
}